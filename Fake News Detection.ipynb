{
 "cells": [
  {
   "cell_type": "markdown",
   "id": "4da05d9a",
   "metadata": {},
   "source": [
    "## Fake News Detection"
   ]
  },
  {
   "cell_type": "markdown",
   "id": "fd31b0c2",
   "metadata": {},
   "source": [
    "#### Import library"
   ]
  },
  {
   "cell_type": "code",
   "execution_count": 11,
   "id": "c8c65619",
   "metadata": {},
   "outputs": [],
   "source": [
    "# import Library\n",
    "# Import libraries\n",
    "import matplotlib.pyplot as plt\n",
    "import pandas as pd\n",
    "import numpy as np\n",
    "import itertools as iter\n",
    "from sklearn.pipeline import Pipeline\n",
    "from sklearn.metrics import classification_report, confusion_matrix, accuracy_score, plot_confusion_matrix\n",
    "from sklearn.model_selection import train_test_split\n",
    "from sklearn.linear_model import PassiveAggressiveClassifier\n",
    "from sklearn.naive_bayes import MultinomialNB\n",
    "from sklearn.feature_extraction.text import TfidfVectorizer\n",
    "import pickle\n",
    "import seaborn as sn"
   ]
  },
  {
   "cell_type": "code",
   "execution_count": 12,
   "id": "c2080b11",
   "metadata": {},
   "outputs": [],
   "source": [
    "# !pip install pandas     # download and install pandas library"
   ]
  },
  {
   "cell_type": "code",
   "execution_count": 13,
   "id": "bba61f32",
   "metadata": {},
   "outputs": [],
   "source": [
    "# initialize the datasets\n",
    "dataset = pd.read_csv('fake_or_real_news (2).csv')"
   ]
  },
  {
   "cell_type": "code",
   "execution_count": 14,
   "id": "93e03ab0",
   "metadata": {},
   "outputs": [],
   "source": [
    "x = dataset['text']"
   ]
  },
  {
   "cell_type": "code",
   "execution_count": 15,
   "id": "5fbc2f27",
   "metadata": {},
   "outputs": [],
   "source": [
    "y = dataset['label']"
   ]
  },
  {
   "cell_type": "code",
   "execution_count": 16,
   "id": "eb0ccf03",
   "metadata": {},
   "outputs": [
    {
     "data": {
      "text/html": [
       "<div>\n",
       "<style scoped>\n",
       "    .dataframe tbody tr th:only-of-type {\n",
       "        vertical-align: middle;\n",
       "    }\n",
       "\n",
       "    .dataframe tbody tr th {\n",
       "        vertical-align: top;\n",
       "    }\n",
       "\n",
       "    .dataframe thead th {\n",
       "        text-align: right;\n",
       "    }\n",
       "</style>\n",
       "<table border=\"1\" class=\"dataframe\">\n",
       "  <thead>\n",
       "    <tr style=\"text-align: right;\">\n",
       "      <th></th>\n",
       "      <th>Unnamed: 0</th>\n",
       "      <th>title</th>\n",
       "      <th>text</th>\n",
       "      <th>label</th>\n",
       "    </tr>\n",
       "  </thead>\n",
       "  <tbody>\n",
       "    <tr>\n",
       "      <th>0</th>\n",
       "      <td>8476</td>\n",
       "      <td>You Can Smell Hillary’s Fear</td>\n",
       "      <td>Daniel Greenfield, a Shillman Journalism Fello...</td>\n",
       "      <td>FAKE</td>\n",
       "    </tr>\n",
       "    <tr>\n",
       "      <th>1</th>\n",
       "      <td>10294</td>\n",
       "      <td>Watch The Exact Moment Paul Ryan Committed Pol...</td>\n",
       "      <td>Google Pinterest Digg Linkedin Reddit Stumbleu...</td>\n",
       "      <td>FAKE</td>\n",
       "    </tr>\n",
       "    <tr>\n",
       "      <th>2</th>\n",
       "      <td>3608</td>\n",
       "      <td>Kerry to go to Paris in gesture of sympathy</td>\n",
       "      <td>U.S. Secretary of State John F. Kerry said Mon...</td>\n",
       "      <td>REAL</td>\n",
       "    </tr>\n",
       "    <tr>\n",
       "      <th>3</th>\n",
       "      <td>10142</td>\n",
       "      <td>Bernie supporters on Twitter erupt in anger ag...</td>\n",
       "      <td>— Kaydee King (@KaydeeKing) November 9, 2016 T...</td>\n",
       "      <td>FAKE</td>\n",
       "    </tr>\n",
       "    <tr>\n",
       "      <th>4</th>\n",
       "      <td>875</td>\n",
       "      <td>The Battle of New York: Why This Primary Matters</td>\n",
       "      <td>It's primary day in New York and front-runners...</td>\n",
       "      <td>REAL</td>\n",
       "    </tr>\n",
       "  </tbody>\n",
       "</table>\n",
       "</div>"
      ],
      "text/plain": [
       "   Unnamed: 0                                              title  \\\n",
       "0        8476                       You Can Smell Hillary’s Fear   \n",
       "1       10294  Watch The Exact Moment Paul Ryan Committed Pol...   \n",
       "2        3608        Kerry to go to Paris in gesture of sympathy   \n",
       "3       10142  Bernie supporters on Twitter erupt in anger ag...   \n",
       "4         875   The Battle of New York: Why This Primary Matters   \n",
       "\n",
       "                                                text label  \n",
       "0  Daniel Greenfield, a Shillman Journalism Fello...  FAKE  \n",
       "1  Google Pinterest Digg Linkedin Reddit Stumbleu...  FAKE  \n",
       "2  U.S. Secretary of State John F. Kerry said Mon...  REAL  \n",
       "3  — Kaydee King (@KaydeeKing) November 9, 2016 T...  FAKE  \n",
       "4  It's primary day in New York and front-runners...  REAL  "
      ]
     },
     "execution_count": 16,
     "metadata": {},
     "output_type": "execute_result"
    }
   ],
   "source": [
    "dataset.head()"
   ]
  },
  {
   "cell_type": "code",
   "execution_count": 17,
   "id": "5aab448c",
   "metadata": {},
   "outputs": [
    {
     "data": {
      "text/plain": [
       "(6335, 4)"
      ]
     },
     "execution_count": 17,
     "metadata": {},
     "output_type": "execute_result"
    }
   ],
   "source": [
    "# dataset shape: no. of rows and no. of col.\n",
    "dataset.shape"
   ]
  },
  {
   "cell_type": "code",
   "execution_count": 18,
   "id": "9921c042",
   "metadata": {},
   "outputs": [
    {
     "data": {
      "text/plain": [
       "Unnamed: 0    0\n",
       "title         0\n",
       "text          0\n",
       "label         0\n",
       "dtype: int64"
      ]
     },
     "execution_count": 18,
     "metadata": {},
     "output_type": "execute_result"
    }
   ],
   "source": [
    "dataset.isnull().sum()"
   ]
  },
  {
   "cell_type": "code",
   "execution_count": 19,
   "id": "a8107bfc",
   "metadata": {},
   "outputs": [],
   "source": [
    "labels = dataset.label"
   ]
  },
  {
   "cell_type": "code",
   "execution_count": 20,
   "id": "b08811bf",
   "metadata": {},
   "outputs": [
    {
     "name": "stdout",
     "output_type": "stream",
     "text": [
      "2       REAL\n",
      "4       REAL\n",
      "7       REAL\n",
      "8       REAL\n",
      "9       REAL\n",
      "        ... \n",
      "6324    REAL\n",
      "6327    REAL\n",
      "6330    REAL\n",
      "6333    REAL\n",
      "6334    REAL\n",
      "Name: label, Length: 3171, dtype: object\n"
     ]
    }
   ],
   "source": [
    "# Print Real Colm.\n",
    "print(dataset.label[dataset.label==\"REAL\"])"
   ]
  },
  {
   "cell_type": "code",
   "execution_count": 21,
   "id": "bcdfaa20",
   "metadata": {},
   "outputs": [
    {
     "name": "stdout",
     "output_type": "stream",
     "text": [
      "0       FAKE\n",
      "1       FAKE\n",
      "3       FAKE\n",
      "5       FAKE\n",
      "6       FAKE\n",
      "        ... \n",
      "6326    FAKE\n",
      "6328    FAKE\n",
      "6329    FAKE\n",
      "6331    FAKE\n",
      "6332    FAKE\n",
      "Name: label, Length: 3164, dtype: object\n"
     ]
    }
   ],
   "source": [
    "# Print FAKE Colm.\n",
    "print(dataset.label[dataset.label==\"FAKE\"])"
   ]
  },
  {
   "cell_type": "code",
   "execution_count": 22,
   "id": "d3f6bc52",
   "metadata": {},
   "outputs": [
    {
     "data": {
      "text/plain": [
       "0    FAKE\n",
       "1    FAKE\n",
       "2    REAL\n",
       "3    FAKE\n",
       "4    REAL\n",
       "Name: label, dtype: object"
      ]
     },
     "execution_count": 22,
     "metadata": {},
     "output_type": "execute_result"
    }
   ],
   "source": [
    "labels.head()"
   ]
  },
  {
   "cell_type": "code",
   "execution_count": 23,
   "id": "e30acb39",
   "metadata": {},
   "outputs": [],
   "source": [
    "from sklearn.model_selection import train_test_split"
   ]
  },
  {
   "cell_type": "code",
   "execution_count": 25,
   "id": "8ae64cea",
   "metadata": {},
   "outputs": [],
   "source": [
    "x_train, x_test, y_train, y_test = train_test_split(dataset[\"text\"], labels, test_size = 0.2, random_state = 20)"
   ]
  },
  {
   "cell_type": "code",
   "execution_count": 26,
   "id": "d7fee436",
   "metadata": {},
   "outputs": [
    {
     "data": {
      "text/plain": [
       "4741    NAIROBI, Kenya — President Obama spoke out Sun...\n",
       "2089    Killing Obama administration rules, dismantlin...\n",
       "4074    Dean Obeidallah, a former attorney, is the hos...\n",
       "5376      WashingtonsBlog \\nCNN’s Jake Tapper hit the ...\n",
       "6028    Some of the biggest issues facing America this...\n",
       "Name: text, dtype: object"
      ]
     },
     "execution_count": 26,
     "metadata": {},
     "output_type": "execute_result"
    }
   ],
   "source": [
    "x_train.head()"
   ]
  },
  {
   "cell_type": "code",
   "execution_count": 27,
   "id": "c731d247",
   "metadata": {},
   "outputs": [],
   "source": [
    "from sklearn.feature_extraction.text import TfidfVectorizer\n",
    "from sklearn.linear_model import PassiveAggressiveClassifier"
   ]
  },
  {
   "cell_type": "code",
   "execution_count": 28,
   "id": "9ecc3123",
   "metadata": {},
   "outputs": [],
   "source": [
    "# initilise a Tfidvectorizer\n",
    "vector = TfidfVectorizer(stop_words='english', max_df=0.7)"
   ]
  },
  {
   "cell_type": "code",
   "execution_count": 29,
   "id": "ab7def54",
   "metadata": {},
   "outputs": [],
   "source": [
    "# fit and tranform\n",
    "tf_train = vector.fit_transform(x_train)\n",
    "tf_test = vector.transform(x_test)"
   ]
  },
  {
   "cell_type": "code",
   "execution_count": 30,
   "id": "d9e371a8",
   "metadata": {},
   "outputs": [
    {
     "data": {
      "text/plain": [
       "PassiveAggressiveClassifier(max_iter=50)"
      ]
     },
     "execution_count": 30,
     "metadata": {},
     "output_type": "execute_result"
    }
   ],
   "source": [
    "# initilise a PassiveAggressiveClassifier\n",
    "pac = PassiveAggressiveClassifier(max_iter=50)\n",
    "pac.fit(tf_train, y_train)"
   ]
  },
  {
   "cell_type": "code",
   "execution_count": 31,
   "id": "313da13d",
   "metadata": {},
   "outputs": [],
   "source": [
    "# predicton the tst dataset\n",
    "from sklearn.metrics import accuracy_score, confusion_matrix\n",
    "y_pred = pac.predict(tf_test)"
   ]
  },
  {
   "cell_type": "code",
   "execution_count": 32,
   "id": "1aaecf16",
   "metadata": {},
   "outputs": [],
   "source": [
    "score = accuracy_score(y_test, y_pred)"
   ]
  },
  {
   "cell_type": "code",
   "execution_count": 33,
   "id": "59496c09",
   "metadata": {},
   "outputs": [
    {
     "name": "stdout",
     "output_type": "stream",
     "text": [
      "Accuracy : 95.11%\n"
     ]
    }
   ],
   "source": [
    "print(f\"Accuracy : {round(score*100,2)}%\")"
   ]
  },
  {
   "cell_type": "code",
   "execution_count": 34,
   "id": "effdf53c",
   "metadata": {},
   "outputs": [
    {
     "data": {
      "text/plain": [
       "array([[623,  25],\n",
       "       [ 37, 582]], dtype=int64)"
      ]
     },
     "execution_count": 34,
     "metadata": {},
     "output_type": "execute_result"
    }
   ],
   "source": [
    "# confusion metrics\n",
    "confusion_matrix(y_test, y_pred, labels=['FAKE', 'REAL'])"
   ]
  },
  {
   "cell_type": "code",
   "execution_count": 36,
   "id": "cdebb5eb",
   "metadata": {},
   "outputs": [],
   "source": [
    "#Creating a pipeline that first creates bag of words(after applying stopwords) & then applies Multinomial Naive Bayes model\n",
    "pipeline = Pipeline([('tfidf', TfidfVectorizer(stop_words='english')),\n",
    "                    ('nbmodel', MultinomialNB())])"
   ]
  },
  {
   "cell_type": "code",
   "execution_count": 37,
   "id": "f7f2f920",
   "metadata": {},
   "outputs": [
    {
     "data": {
      "text/plain": [
       "Pipeline(steps=[('tfidf', TfidfVectorizer(stop_words='english')),\n",
       "                ('nbmodel', MultinomialNB())])"
      ]
     },
     "execution_count": 37,
     "metadata": {},
     "output_type": "execute_result"
    }
   ],
   "source": [
    "#Training our data\n",
    "pipeline.fit(x_train, y_train)"
   ]
  },
  {
   "cell_type": "code",
   "execution_count": 38,
   "id": "a28d3c18",
   "metadata": {},
   "outputs": [],
   "source": [
    "#Predicting the label for the test data\n",
    "pred = pipeline.predict(x_test)"
   ]
  },
  {
   "cell_type": "code",
   "execution_count": 39,
   "id": "dffbc099",
   "metadata": {},
   "outputs": [
    {
     "name": "stdout",
     "output_type": "stream",
     "text": [
      "Accuracy: 82.32%\n"
     ]
    }
   ],
   "source": [
    "# Score: Accuracy\n",
    "score = accuracy_score(y_test, pred)\n",
    "print(f'Accuracy: {round(score*100,2)}%')\n",
    "tfidf = TfidfVectorizer(stop_words=\"english\", max_df=0.7)\n",
    "tfidf_train = tfidf.fit_transform(x_train)\n",
    "tfidf_test = tfidf.transform(x_test)"
   ]
  },
  {
   "cell_type": "code",
   "execution_count": 40,
   "id": "729dd4c1",
   "metadata": {},
   "outputs": [
    {
     "name": "stdout",
     "output_type": "stream",
     "text": [
      "Accuracy: 94.95%\n"
     ]
    }
   ],
   "source": [
    "# Passive Aggressive Classification\n",
    "pac = PassiveAggressiveClassifier(max_iter=50)\n",
    "pac.fit(tfidf_train, y_train)\n",
    "y_pred = pac.predict(tfidf_test)\n",
    "pac_score = accuracy_score(y_test, y_pred)\n",
    "print(f'Accuracy: {round(pac_score*100,2)}%')"
   ]
  },
  {
   "cell_type": "code",
   "execution_count": 41,
   "id": "512f7b5e",
   "metadata": {},
   "outputs": [
    {
     "name": "stdout",
     "output_type": "stream",
     "text": [
      "              precision    recall  f1-score   support\n",
      "\n",
      "        FAKE       0.97      0.68      0.80       648\n",
      "        REAL       0.74      0.98      0.84       619\n",
      "\n",
      "    accuracy                           0.82      1267\n",
      "   macro avg       0.86      0.83      0.82      1267\n",
      "weighted avg       0.86      0.82      0.82      1267\n",
      "\n"
     ]
    }
   ],
   "source": [
    "# print classifiaction report\n",
    "print(classification_report(y_test, pred))"
   ]
  },
  {
   "cell_type": "code",
   "execution_count": 42,
   "id": "62ce76ac",
   "metadata": {},
   "outputs": [
    {
     "name": "stdout",
     "output_type": "stream",
     "text": [
      "[[438 210]\n",
      " [ 14 605]]\n"
     ]
    }
   ],
   "source": [
    "#print confusion matrix\n",
    "print(confusion_matrix(y_test, pred))"
   ]
  },
  {
   "cell_type": "code",
   "execution_count": 44,
   "id": "61c73d24",
   "metadata": {},
   "outputs": [
    {
     "data": {
      "text/plain": [
       "<AxesSubplot:>"
      ]
     },
     "execution_count": 44,
     "metadata": {},
     "output_type": "execute_result"
    },
    {
     "data": {
      "image/png": "[encoded data removed]",
      "text/plain": [
       "<Figure size 720x504 with 2 Axes>"
      ]
     },
     "metadata": {
      "needs_background": "light"
     },
     "output_type": "display_data"
    }
   ],
   "source": [
    "# plot heat map \n",
    "plt.figure(figsize = (10,7))\n",
    "sn.heatmap(confusion_matrix(y_test, pred), annot=True)"
   ]
  },
  {
   "cell_type": "code",
   "execution_count": 45,
   "id": "d113323f",
   "metadata": {},
   "outputs": [],
   "source": [
    "# save model\n",
    "import pickle\n",
    "filename = 'finalized_model.pkl'\n",
    "pickle.dump(pac, open(filename, 'wb'))"
   ]
  },
  {
   "cell_type": "code",
   "execution_count": 46,
   "id": "25f6c11e",
   "metadata": {},
   "outputs": [],
   "source": [
    "# save vectorizer\n",
    "filename = 'vectorizer.pkl'\n",
    "pickle.dump(vector, open(filename, 'wb'))"
   ]
  },
  {
   "cell_type": "code",
   "execution_count": null,
   "id": "48321b9c",
   "metadata": {},
   "outputs": [],
   "source": []
  }
 ],
 "metadata": {
  "kernelspec": {
   "display_name": "Python 3.10.6 64-bit",
   "language": "python",
   "name": "python3"
  },
  "language_info": {
   "codemirror_mode": {
    "name": "ipython",
    "version": 3
   },
   "file_extension": ".py",
   "mimetype": "text/x-python",
   "name": "python",
   "nbconvert_exporter": "python",
   "pygments_lexer": "ipython3",
   "version": "3.10.6"
  },
  "vscode": {
   "interpreter": {
    "hash": "fbc768028c3e6ead51d9a200ddcb2ec858ae62844dcd1994729a8279be9b48f2"
   }
  }
 },
 "nbformat": 4,
 "nbformat_minor": 5
}
